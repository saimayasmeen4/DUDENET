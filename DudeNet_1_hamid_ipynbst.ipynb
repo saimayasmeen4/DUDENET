{
  "nbformat": 4,
  "nbformat_minor": 0,
  "metadata": {
    "colab": {
      "name": "DudeNet_1_hamid_ipynbst.ipynb",
      "provenance": [],
      "collapsed_sections": [],
      "include_colab_link": true
    },
    "kernelspec": {
      "name": "python3",
      "display_name": "Python 3"
    },
    "language_info": {
      "name": "python"
    }
  },
  "cells": [
    {
      "cell_type": "markdown",
      "metadata": {
        "id": "view-in-github",
        "colab_type": "text"
      },
      "source": [
        "<a href=\"https://colab.research.google.com/github/saimayasmeen4/DUDENET/blob/main/DudeNet_1_hamid_ipynbst.ipynb\" target=\"_parent\"><img src=\"https://colab.research.google.com/assets/colab-badge.svg\" alt=\"Open In Colab\"/></a>"
      ]
    },
    {
      "cell_type": "code",
      "metadata": {
        "colab": {
          "base_uri": "https://localhost:8080/"
        },
        "id": "sisX450s8L9y",
        "outputId": "5eb0e503-9072-400e-cb42-51abfe40cca6"
      },
      "source": [
        "from google.colab import drive\n",
        "drive.mount('/content/drive',force_remount=True)"
      ],
      "execution_count": null,
      "outputs": [
        {
          "output_type": "stream",
          "name": "stdout",
          "text": [
            "Mounted at /content/drive\n"
          ]
        }
      ]
    },
    {
      "cell_type": "code",
      "metadata": {
        "colab": {
          "base_uri": "https://localhost:8080/",
          "height": 35
        },
        "id": "OYrVWEnS-j4X",
        "outputId": "85cadfe7-4fdd-4ec3-ef4e-24a526aa2677"
      },
      "source": [
        "pwd"
      ],
      "execution_count": null,
      "outputs": [
        {
          "output_type": "execute_result",
          "data": {
            "application/vnd.google.colaboratory.intrinsic+json": {
              "type": "string"
            },
            "text/plain": [
              "'/content'"
            ]
          },
          "metadata": {},
          "execution_count": 9
        }
      ]
    },
    {
      "cell_type": "code",
      "metadata": {
        "id": "P_Zk9s-W8t-d"
      },
      "source": [
        "# import os\n",
        "# # /content/drive/MyDrive/BRDNet12/BRDNet12/grayimage/data/sar_images_gray/clean_1c\n",
        "# path, dirs, files = next(os.walk('/content/drive/MyDrive/clean_1c'))\n",
        "# file_count = len(files)\n",
        "# print(file_count)"
      ],
      "execution_count": null,
      "outputs": []
    },
    {
      "cell_type": "code",
      "metadata": {
        "id": "bydpeJ_cPZEX"
      },
      "source": [
        "# clean_img_path = '/content/drive/MyDrive/DudeNet2/gray/data/clean_1c'\n",
        "# noisy_img_path = '/content/drive/MyDrive/DudeNet2/gray/data/noisy1_c'"
      ],
      "execution_count": null,
      "outputs": []
    },
    {
      "cell_type": "code",
      "metadata": {
        "id": "oZNba3Sx-xvz"
      },
      "source": [
        "# import os\n",
        "\n",
        "# path, dirs, files = next(os.walk(clean_img_path))\n",
        "# file_count = len(files)\n",
        "# print(file_count)"
      ],
      "execution_count": null,
      "outputs": []
    },
    {
      "cell_type": "code",
      "metadata": {
        "id": "T6_H4OqCAP6k"
      },
      "source": [
        "# import os\n",
        "# path, dirs, files = next(os.walk(noisy_img_path))\n",
        "# file_count = len(files)\n",
        "# print(file_count)"
      ],
      "execution_count": null,
      "outputs": []
    },
    {
      "cell_type": "code",
      "metadata": {
        "colab": {
          "base_uri": "https://localhost:8080/"
        },
        "id": "6KUpU5TyeIGd",
        "outputId": "aa7a82c6-3bf2-4000-8f89-ec00cb082fd4"
      },
      "source": [
        "cd /content/drive/MyDrive/DudeNet2/gray/"
      ],
      "execution_count": null,
      "outputs": [
        {
          "output_type": "stream",
          "name": "stdout",
          "text": [
            "/content/drive/MyDrive/DudeNet2/gray\n"
          ]
        }
      ]
    },
    {
      "cell_type": "code",
      "metadata": {
        "colab": {
          "base_uri": "https://localhost:8080/"
        },
        "id": "ZLK95bYoeIJh",
        "outputId": "bd156567-5187-4402-8aeb-67238160f699"
      },
      "source": [
        "!python train2.py --preprocess True --num_of_layers 17 --train_images 2 --val_images 2 --batchSize 2\n"
      ],
      "execution_count": null,
      "outputs": [
        {
          "output_type": "stream",
          "name": "stdout",
          "text": [
            "process training data\n",
            "Total Clean files 25\n",
            "Total Noisy files 25\n",
            "Reading train Image:  /content/drive/MyDrive/DudeNet2/gray/data/clean_1c/12000.jpg\n",
            "Reading train Image:  /content/drive/MyDrive/DudeNet2/gray/data/clean_1c/11986.jpg\n",
            "\n",
            "process validation data\n",
            "Reading val Image:  /content/drive/MyDrive/DudeNet2/gray/data/clean_1c/11985.jpg\n",
            "Reading val Image:  /content/drive/MyDrive/DudeNet2/gray/data/clean_1c/11983.jpg\n",
            "training set, # samples 2\n",
            "\n",
            "val set, # samples 2\n",
            "\n",
            "Loading dataset ...\n",
            "\n",
            "/usr/local/lib/python3.7/dist-packages/torch/utils/data/dataloader.py:481: UserWarning: This DataLoader will create 4 worker processes in total. Our suggested max number of worker in current system is 2, which is smaller than what this DataLoader is going to create. Please be aware that excessive worker creation might get DataLoader running slow or even freeze, lower the worker number to avoid potential slowness/freeze if necessary.\n",
            "  cpuset_checked))\n",
            "# of training samples: 2\n",
            "\n",
            "/usr/local/lib/python3.7/dist-packages/torch/nn/_reduction.py:42: UserWarning: size_average and reduce args will be deprecated, please use reduction='sum' instead.\n",
            "  warnings.warn(warning.format(ret))\n",
            "learning rate 0.001000\n",
            "/content/drive/MyDrive/DudeNet2/gray/utils.py:23: UserWarning: DEPRECATED: skimage.measure.compare_psnr has been moved to skimage.metrics.peak_signal_noise_ratio. It will be removed from skimage.measure in version 0.18.\n",
            "  PSNR += compare_psnr(Iclean[i,:,:,:], Img[i,:,:,:], data_range=data_range)\n",
            "[epoch 1][1/1] loss: 8.5267 PSNR_train: 34.9311\n",
            "\n",
            "[epoch 1] PSNR_val: 36.9295\n",
            "learning rate 0.001000\n",
            "[epoch 2][1/1] loss: 7.5154 PSNR_train: 35.4996\n",
            "\n",
            "[epoch 2] PSNR_val: 38.1503\n",
            "learning rate 0.001000\n",
            "[epoch 3][1/1] loss: 6.7641 PSNR_train: 35.9678\n",
            "\n",
            "[epoch 3] PSNR_val: 40.2871\n",
            "learning rate 0.001000\n",
            "[epoch 4][1/1] loss: 6.0123 PSNR_train: 36.4692\n",
            "\n",
            "[epoch 4] PSNR_val: 42.5218\n",
            "learning rate 0.001000\n",
            "Traceback (most recent call last):\n",
            "  File \"train2.py\", line 193, in <module>\n",
            "    main()\n",
            "  File \"train2.py\", line 129, in main\n",
            "    loss.backward()\n",
            "  File \"/usr/local/lib/python3.7/dist-packages/torch/_tensor.py\", line 255, in backward\n",
            "    torch.autograd.backward(self, gradient, retain_graph, create_graph, inputs=inputs)\n",
            "  File \"/usr/local/lib/python3.7/dist-packages/torch/autograd/__init__.py\", line 149, in backward\n",
            "    allow_unreachable=True, accumulate_grad=True)  # allow_unreachable flag\n",
            "KeyboardInterrupt\n"
          ]
        }
      ]
    },
    {
      "cell_type": "code",
      "metadata": {
        "id": "sy8C9CPOo7qP"
      },
      "source": [
        ""
      ],
      "execution_count": null,
      "outputs": []
    },
    {
      "cell_type": "code",
      "metadata": {
        "colab": {
          "base_uri": "https://localhost:8080/"
        },
        "id": "lNp2jFnro8dB",
        "outputId": "e970d819-12e1-4844-a45d-77063eca1540"
      },
      "source": [
        "!python test2.py --num_of_layers 17 --model_path \"/content/drive/MyDrive/DudeNet2/gray/logs/sigma15_2021-10-29-19-55-41/model_4.pth\" --test_data \"/content/drive/MyDrive/DudeNet2/gray/data/noisy1_c\" "
      ],
      "execution_count": null,
      "outputs": [
        {
          "output_type": "stream",
          "name": "stdout",
          "text": [
            "Loading model ...\n",
            "\n",
            "Loading data info ...\n",
            "\n",
            "/content/drive/My Drive/DudeNet2/gray/utils.py:23: UserWarning: DEPRECATED: skimage.measure.compare_psnr has been moved to skimage.metrics.peak_signal_noise_ratio. It will be removed from skimage.measure in version 0.18.\n",
            "  PSNR += compare_psnr(Iclean[i,:,:,:], Img[i,:,:,:], data_range=data_range)\n",
            "/content/drive/MyDrive/DudeNet2/gray/data/noisy1_c/11976.jpg PSNR 42.534888\n",
            "/content/drive/MyDrive/DudeNet2/gray/data/noisy1_c/11977.jpg PSNR 42.685168\n",
            "/content/drive/MyDrive/DudeNet2/gray/data/noisy1_c/11978.jpg PSNR 41.613139\n",
            "/content/drive/MyDrive/DudeNet2/gray/data/noisy1_c/11979.jpg PSNR 42.502590\n",
            "/content/drive/MyDrive/DudeNet2/gray/data/noisy1_c/11980.jpg PSNR 44.521005\n",
            "/content/drive/MyDrive/DudeNet2/gray/data/noisy1_c/11981.jpg PSNR 42.829095\n",
            "/content/drive/MyDrive/DudeNet2/gray/data/noisy1_c/11982.jpg PSNR 43.000538\n",
            "/content/drive/MyDrive/DudeNet2/gray/data/noisy1_c/11983.jpg PSNR 41.971071\n",
            "/content/drive/MyDrive/DudeNet2/gray/data/noisy1_c/11984.jpg PSNR 40.481557\n",
            "/content/drive/MyDrive/DudeNet2/gray/data/noisy1_c/11985.jpg PSNR 43.072517\n",
            "/content/drive/MyDrive/DudeNet2/gray/data/noisy1_c/11986.jpg PSNR 41.595449\n",
            "/content/drive/MyDrive/DudeNet2/gray/data/noisy1_c/11987.jpg PSNR 42.146098\n",
            "/content/drive/MyDrive/DudeNet2/gray/data/noisy1_c/11988.jpg PSNR 44.664397\n",
            "/content/drive/MyDrive/DudeNet2/gray/data/noisy1_c/11989.jpg PSNR 47.385346\n",
            "/content/drive/MyDrive/DudeNet2/gray/data/noisy1_c/11990.jpg PSNR 42.520161\n",
            "/content/drive/MyDrive/DudeNet2/gray/data/noisy1_c/11991.jpg PSNR 43.644130\n",
            "/content/drive/MyDrive/DudeNet2/gray/data/noisy1_c/11992.jpg PSNR 41.761648\n",
            "/content/drive/MyDrive/DudeNet2/gray/data/noisy1_c/11993.jpg PSNR 43.417979\n",
            "/content/drive/MyDrive/DudeNet2/gray/data/noisy1_c/11994.jpg PSNR 41.681121\n",
            "/content/drive/MyDrive/DudeNet2/gray/data/noisy1_c/11995.jpg PSNR 41.615555\n",
            "/content/drive/MyDrive/DudeNet2/gray/data/noisy1_c/11996.jpg PSNR 40.382546\n",
            "/content/drive/MyDrive/DudeNet2/gray/data/noisy1_c/11997.jpg PSNR 43.338902\n",
            "/content/drive/MyDrive/DudeNet2/gray/data/noisy1_c/11998.jpg PSNR 39.681699\n",
            "/content/drive/MyDrive/DudeNet2/gray/data/noisy1_c/11999.jpg PSNR 40.968734\n",
            "/content/drive/MyDrive/DudeNet2/gray/data/noisy1_c/12000.jpg PSNR 41.298106\n",
            "\n",
            "PSNR on test data 42.452538\n"
          ]
        }
      ]
    }
  ]
}